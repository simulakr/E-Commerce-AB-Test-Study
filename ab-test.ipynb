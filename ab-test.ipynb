{
 "cells": [
  {
   "cell_type": "markdown",
   "id": "22b48d49",
   "metadata": {
    "id": "TSSA5lBxtcsv",
    "papermill": {
     "duration": 0.007104,
     "end_time": "2024-09-27T13:14:12.579709",
     "exception": false,
     "start_time": "2024-09-27T13:14:12.572605",
     "status": "completed"
    },
    "tags": []
   },
   "source": [
    "# AB TEST STUDY ON E-COMMERCE DATA"
   ]
  },
  {
   "cell_type": "markdown",
   "id": "3794a9d2",
   "metadata": {
    "id": "v00CIT-Qs7QY",
    "papermill": {
     "duration": 0.006688,
     "end_time": "2024-09-27T13:14:12.593820",
     "exception": false,
     "start_time": "2024-09-27T13:14:12.587132",
     "status": "completed"
    },
    "tags": []
   },
   "source": [
    "For this project, an attempt was made to understand the results of an A/B test conducted by an e-commerce website. The company has developed a new web page with the aim of increasing the number of users who \"convert\", that is, the number of users who decide to pay for the company's product. Our goal is to help the company understand whether it should implement this new page, keep the old page, or run the experiment longer to decide."
   ]
  },
  {
   "cell_type": "markdown",
   "id": "7383de6e",
   "metadata": {
    "id": "SBA9SP64uEBT",
    "papermill": {
     "duration": 0.006157,
     "end_time": "2024-09-27T13:14:12.607838",
     "exception": false,
     "start_time": "2024-09-27T13:14:12.601681",
     "status": "completed"
    },
    "tags": []
   },
   "source": [
    "**INSTALLING REQUIRED LIBRARIES**"
   ]
  },
  {
   "cell_type": "code",
   "execution_count": 1,
   "id": "82c77e8e",
   "metadata": {
    "execution": {
     "iopub.execute_input": "2024-09-27T13:14:12.622983Z",
     "iopub.status.busy": "2024-09-27T13:14:12.622408Z",
     "iopub.status.idle": "2024-09-27T13:14:48.083226Z",
     "shell.execute_reply": "2024-09-27T13:14:48.081809Z"
    },
    "id": "fKW-ScfEC7kw",
    "outputId": "6b65aadf-43d2-4d5b-da1e-74fbd0a9612d",
    "papermill": {
     "duration": 35.472088,
     "end_time": "2024-09-27T13:14:48.086341",
     "exception": false,
     "start_time": "2024-09-27T13:14:12.614253",
     "status": "completed"
    },
    "tags": []
   },
   "outputs": [
    {
     "name": "stdout",
     "output_type": "stream",
     "text": [
      "Requirement already satisfied: statsmodels in /opt/conda/lib/python3.10/site-packages (0.14.2)\r\n",
      "Requirement already satisfied: numpy>=1.22.3 in /opt/conda/lib/python3.10/site-packages (from statsmodels) (1.26.4)\r\n",
      "Requirement already satisfied: scipy!=1.9.2,>=1.8 in /opt/conda/lib/python3.10/site-packages (from statsmodels) (1.14.1)\r\n",
      "Requirement already satisfied: pandas!=2.1.0,>=1.4 in /opt/conda/lib/python3.10/site-packages (from statsmodels) (2.2.2)\r\n",
      "Requirement already satisfied: patsy>=0.5.6 in /opt/conda/lib/python3.10/site-packages (from statsmodels) (0.5.6)\r\n",
      "Requirement already satisfied: packaging>=21.3 in /opt/conda/lib/python3.10/site-packages (from statsmodels) (21.3)\r\n",
      "Requirement already satisfied: pyparsing!=3.0.5,>=2.0.2 in /opt/conda/lib/python3.10/site-packages (from packaging>=21.3->statsmodels) (3.1.2)\r\n",
      "Requirement already satisfied: python-dateutil>=2.8.2 in /opt/conda/lib/python3.10/site-packages (from pandas!=2.1.0,>=1.4->statsmodels) (2.9.0.post0)\r\n",
      "Requirement already satisfied: pytz>=2020.1 in /opt/conda/lib/python3.10/site-packages (from pandas!=2.1.0,>=1.4->statsmodels) (2024.1)\r\n",
      "Requirement already satisfied: tzdata>=2022.7 in /opt/conda/lib/python3.10/site-packages (from pandas!=2.1.0,>=1.4->statsmodels) (2024.1)\r\n",
      "Requirement already satisfied: six in /opt/conda/lib/python3.10/site-packages (from patsy>=0.5.6->statsmodels) (1.16.0)\r\n"
     ]
    }
   ],
   "source": [
    "!pip install statsmodels"
   ]
  },
  {
   "cell_type": "markdown",
   "id": "3dd487e9",
   "metadata": {
    "id": "3mdJ1DKN2OAK",
    "papermill": {
     "duration": 0.006876,
     "end_time": "2024-09-27T13:14:48.100282",
     "exception": false,
     "start_time": "2024-09-27T13:14:48.093406",
     "status": "completed"
    },
    "tags": []
   },
   "source": [
    "**IMPORT OF LIBRARIES**\n"
   ]
  },
  {
   "cell_type": "code",
   "execution_count": 2,
   "id": "55b541bd",
   "metadata": {
    "execution": {
     "iopub.execute_input": "2024-09-27T13:14:48.116497Z",
     "iopub.status.busy": "2024-09-27T13:14:48.116015Z",
     "iopub.status.idle": "2024-09-27T13:14:50.654135Z",
     "shell.execute_reply": "2024-09-27T13:14:50.652911Z"
    },
    "id": "KbLktKVt2I2S",
    "papermill": {
     "duration": 2.550021,
     "end_time": "2024-09-27T13:14:50.657312",
     "exception": false,
     "start_time": "2024-09-27T13:14:48.107291",
     "status": "completed"
    },
    "tags": []
   },
   "outputs": [],
   "source": [
    "import pandas as pd\n",
    "from statsmodels.stats.proportion import proportions_ztest\n",
    "\n",
    "pd.set_option(\"display.max_columns\", None)\n",
    "pd.set_option(\"display.max_rows\", 12)\n",
    "pd.set_option(\"display.width\", 50)\n",
    "pd.set_option(\"display.float_format\", lambda x: '%.4f'%x)"
   ]
  },
  {
   "cell_type": "markdown",
   "id": "e1dc43c5",
   "metadata": {
    "id": "JJX5rAG7uP5o",
    "papermill": {
     "duration": 0.006765,
     "end_time": "2024-09-27T13:14:50.671458",
     "exception": false,
     "start_time": "2024-09-27T13:14:50.664693",
     "status": "completed"
    },
    "tags": []
   },
   "source": [
    "**Reading and Examining the Dataset**"
   ]
  },
  {
   "cell_type": "code",
   "execution_count": 3,
   "id": "40c00fe8",
   "metadata": {
    "execution": {
     "iopub.execute_input": "2024-09-27T13:14:50.687446Z",
     "iopub.status.busy": "2024-09-27T13:14:50.686796Z",
     "iopub.status.idle": "2024-09-27T13:14:51.261122Z",
     "shell.execute_reply": "2024-09-27T13:14:51.259860Z"
    },
    "id": "1qqWQITJ28dO",
    "outputId": "81190b22-9e8a-4b12-e5ef-2e7d4b80fc7e",
    "papermill": {
     "duration": 0.585306,
     "end_time": "2024-09-27T13:14:51.263787",
     "exception": false,
     "start_time": "2024-09-27T13:14:50.678481",
     "status": "completed"
    },
    "tags": []
   },
   "outputs": [
    {
     "data": {
      "text/html": [
       "<div>\n",
       "<style scoped>\n",
       "    .dataframe tbody tr th:only-of-type {\n",
       "        vertical-align: middle;\n",
       "    }\n",
       "\n",
       "    .dataframe tbody tr th {\n",
       "        vertical-align: top;\n",
       "    }\n",
       "\n",
       "    .dataframe thead th {\n",
       "        text-align: right;\n",
       "    }\n",
       "</style>\n",
       "<table border=\"1\" class=\"dataframe\">\n",
       "  <thead>\n",
       "    <tr style=\"text-align: right;\">\n",
       "      <th></th>\n",
       "      <th>user_id</th>\n",
       "      <th>timestamp</th>\n",
       "      <th>group</th>\n",
       "      <th>landing_page</th>\n",
       "      <th>converted</th>\n",
       "    </tr>\n",
       "  </thead>\n",
       "  <tbody>\n",
       "    <tr>\n",
       "      <th>0</th>\n",
       "      <td>851104</td>\n",
       "      <td>11:48.6</td>\n",
       "      <td>control</td>\n",
       "      <td>old_page</td>\n",
       "      <td>0</td>\n",
       "    </tr>\n",
       "    <tr>\n",
       "      <th>1</th>\n",
       "      <td>804228</td>\n",
       "      <td>01:45.2</td>\n",
       "      <td>control</td>\n",
       "      <td>old_page</td>\n",
       "      <td>0</td>\n",
       "    </tr>\n",
       "    <tr>\n",
       "      <th>2</th>\n",
       "      <td>661590</td>\n",
       "      <td>55:06.2</td>\n",
       "      <td>treatment</td>\n",
       "      <td>new_page</td>\n",
       "      <td>0</td>\n",
       "    </tr>\n",
       "    <tr>\n",
       "      <th>3</th>\n",
       "      <td>853541</td>\n",
       "      <td>28:03.1</td>\n",
       "      <td>treatment</td>\n",
       "      <td>new_page</td>\n",
       "      <td>0</td>\n",
       "    </tr>\n",
       "    <tr>\n",
       "      <th>4</th>\n",
       "      <td>864975</td>\n",
       "      <td>52:26.2</td>\n",
       "      <td>control</td>\n",
       "      <td>old_page</td>\n",
       "      <td>1</td>\n",
       "    </tr>\n",
       "  </tbody>\n",
       "</table>\n",
       "</div>"
      ],
      "text/plain": [
       "   user_id timestamp      group landing_page  \\\n",
       "0   851104   11:48.6    control     old_page   \n",
       "1   804228   01:45.2    control     old_page   \n",
       "2   661590   55:06.2  treatment     new_page   \n",
       "3   853541   28:03.1  treatment     new_page   \n",
       "4   864975   52:26.2    control     old_page   \n",
       "\n",
       "   converted  \n",
       "0          0  \n",
       "1          0  \n",
       "2          0  \n",
       "3          0  \n",
       "4          1  "
      ]
     },
     "execution_count": 3,
     "metadata": {},
     "output_type": "execute_result"
    }
   ],
   "source": [
    "df = pd.read_csv(\"/kaggle/input/ecommerce-ab-testing-2022-dataset1/ecommerce_ab_testing_2022_dataset1/ab_data.csv\")\n",
    "df.head()"
   ]
  },
  {
   "cell_type": "code",
   "execution_count": 4,
   "id": "4f5b98ad",
   "metadata": {
    "execution": {
     "iopub.execute_input": "2024-09-27T13:14:51.281619Z",
     "iopub.status.busy": "2024-09-27T13:14:51.281208Z",
     "iopub.status.idle": "2024-09-27T13:14:51.407574Z",
     "shell.execute_reply": "2024-09-27T13:14:51.406181Z"
    },
    "id": "UCFExlCD28nB",
    "outputId": "9a79fc2b-052d-4054-ee5b-f14cfd3627c1",
    "papermill": {
     "duration": 0.138998,
     "end_time": "2024-09-27T13:14:51.410468",
     "exception": false,
     "start_time": "2024-09-27T13:14:51.271470",
     "status": "completed"
    },
    "tags": []
   },
   "outputs": [
    {
     "name": "stdout",
     "output_type": "stream",
     "text": [
      "<class 'pandas.core.frame.DataFrame'>\n",
      "RangeIndex: 294480 entries, 0 to 294479\n",
      "Data columns (total 5 columns):\n",
      " #   Column        Non-Null Count   Dtype \n",
      "---  ------        --------------   ----- \n",
      " 0   user_id       294480 non-null  int64 \n",
      " 1   timestamp     294480 non-null  object\n",
      " 2   group         294480 non-null  object\n",
      " 3   landing_page  294480 non-null  object\n",
      " 4   converted     294480 non-null  int64 \n",
      "dtypes: int64(2), object(3)\n",
      "memory usage: 11.2+ MB\n"
     ]
    }
   ],
   "source": [
    "df.info()"
   ]
  },
  {
   "cell_type": "code",
   "execution_count": 5,
   "id": "7edc1cca",
   "metadata": {
    "execution": {
     "iopub.execute_input": "2024-09-27T13:14:51.428770Z",
     "iopub.status.busy": "2024-09-27T13:14:51.427725Z",
     "iopub.status.idle": "2024-09-27T13:14:51.551792Z",
     "shell.execute_reply": "2024-09-27T13:14:51.550591Z"
    },
    "id": "_D9_swIr283C",
    "outputId": "67949c3c-39b7-4560-e412-f98113c390ef",
    "papermill": {
     "duration": 0.136267,
     "end_time": "2024-09-27T13:14:51.554697",
     "exception": false,
     "start_time": "2024-09-27T13:14:51.418430",
     "status": "completed"
    },
    "tags": []
   },
   "outputs": [
    {
     "data": {
      "text/plain": [
       "user_id         290585\n",
       "timestamp        35993\n",
       "group                2\n",
       "landing_page         2\n",
       "converted            2\n",
       "dtype: int64"
      ]
     },
     "execution_count": 5,
     "metadata": {},
     "output_type": "execute_result"
    }
   ],
   "source": [
    "df.nunique()"
   ]
  },
  {
   "cell_type": "code",
   "execution_count": 6,
   "id": "127b8486",
   "metadata": {
    "execution": {
     "iopub.execute_input": "2024-09-27T13:14:51.573129Z",
     "iopub.status.busy": "2024-09-27T13:14:51.571939Z",
     "iopub.status.idle": "2024-09-27T13:14:51.656077Z",
     "shell.execute_reply": "2024-09-27T13:14:51.654733Z"
    },
    "id": "R7uSnSPU6fMA",
    "outputId": "8763ec30-d507-488c-eb40-0283295891ca",
    "papermill": {
     "duration": 0.096363,
     "end_time": "2024-09-27T13:14:51.658975",
     "exception": false,
     "start_time": "2024-09-27T13:14:51.562612",
     "status": "completed"
    },
    "tags": []
   },
   "outputs": [
    {
     "data": {
      "text/plain": [
       "group      landing_page\n",
       "control    new_page       0.1214\n",
       "           old_page       0.1204\n",
       "treatment  new_page       0.1188\n",
       "           old_page       0.1272\n",
       "Name: converted, dtype: float64"
      ]
     },
     "execution_count": 6,
     "metadata": {},
     "output_type": "execute_result"
    }
   ],
   "source": [
    "df.groupby([\"group\",\"landing_page\"])[\"converted\"].mean()"
   ]
  },
  {
   "cell_type": "code",
   "execution_count": 7,
   "id": "bf436cc8",
   "metadata": {
    "execution": {
     "iopub.execute_input": "2024-09-27T13:14:51.676985Z",
     "iopub.status.busy": "2024-09-27T13:14:51.676521Z",
     "iopub.status.idle": "2024-09-27T13:14:51.756720Z",
     "shell.execute_reply": "2024-09-27T13:14:51.755522Z"
    },
    "id": "Yo6hoa6E6fVF",
    "outputId": "a5a7d6aa-50bd-4e5e-e55e-a366d2f22f00",
    "papermill": {
     "duration": 0.092417,
     "end_time": "2024-09-27T13:14:51.759438",
     "exception": false,
     "start_time": "2024-09-27T13:14:51.667021",
     "status": "completed"
    },
    "tags": []
   },
   "outputs": [
    {
     "data": {
      "text/plain": [
       "group      landing_page\n",
       "control    old_page        145274\n",
       "           new_page          1928\n",
       "treatment  new_page        145313\n",
       "           old_page          1965\n",
       "Name: count, dtype: int64"
      ]
     },
     "execution_count": 7,
     "metadata": {},
     "output_type": "execute_result"
    }
   ],
   "source": [
    "df.groupby(\"group\")[\"landing_page\"].value_counts()"
   ]
  },
  {
   "cell_type": "markdown",
   "id": "a2d18861",
   "metadata": {
    "id": "VaFZIzBYu18i",
    "papermill": {
     "duration": 0.009507,
     "end_time": "2024-09-27T13:14:51.777230",
     "exception": false,
     "start_time": "2024-09-27T13:14:51.767723",
     "status": "completed"
    },
    "tags": []
   },
   "source": [
    "control > new_page > 1928\n",
    "\n",
    "treatment > old_page > 1965\n",
    "\n",
    "Since there may be incorrect data, I delete the new_page in the control group and the old_page in the treatment group because there is a small amount of data."
   ]
  },
  {
   "cell_type": "code",
   "execution_count": 8,
   "id": "1568176f",
   "metadata": {
    "execution": {
     "iopub.execute_input": "2024-09-27T13:14:51.795510Z",
     "iopub.status.busy": "2024-09-27T13:14:51.795068Z",
     "iopub.status.idle": "2024-09-27T13:14:52.162748Z",
     "shell.execute_reply": "2024-09-27T13:14:52.161462Z"
    },
    "id": "UX2pCH6gZzqf",
    "outputId": "3d18dc46-624d-422d-87ef-b6ed2b8cdfca",
    "papermill": {
     "duration": 0.379982,
     "end_time": "2024-09-27T13:14:52.165410",
     "exception": false,
     "start_time": "2024-09-27T13:14:51.785428",
     "status": "completed"
    },
    "tags": []
   },
   "outputs": [
    {
     "data": {
      "text/plain": [
       "group      landing_page\n",
       "control    old_page        145274\n",
       "treatment  new_page        145313\n",
       "Name: count, dtype: int64"
      ]
     },
     "execution_count": 8,
     "metadata": {},
     "output_type": "execute_result"
    }
   ],
   "source": [
    "df = df.loc[~((df[\"group\"] == 'control') & (df[\"landing_page\"] == 'new_page')), :]\n",
    "df = df.loc[~((df[\"group\"] == 'treatment') & (df[\"landing_page\"] == 'old_page')), :]\n",
    "df.groupby(\"group\")[\"landing_page\"].value_counts()"
   ]
  },
  {
   "cell_type": "markdown",
   "id": "5823b4e0",
   "metadata": {
    "id": "GruQT7Q7_lH2",
    "papermill": {
     "duration": 0.008351,
     "end_time": "2024-09-27T13:14:52.182359",
     "exception": false,
     "start_time": "2024-09-27T13:14:52.174008",
     "status": "completed"
    },
    "tags": []
   },
   "source": [
    "**I drop the duplicate user_id's so that the last one remains. I'm interested in the conversion in the final process.**\n",
    "\n"
   ]
  },
  {
   "cell_type": "code",
   "execution_count": 9,
   "id": "d5240161",
   "metadata": {
    "execution": {
     "iopub.execute_input": "2024-09-27T13:14:52.201043Z",
     "iopub.status.busy": "2024-09-27T13:14:52.200558Z",
     "iopub.status.idle": "2024-09-27T13:14:52.233351Z",
     "shell.execute_reply": "2024-09-27T13:14:52.232271Z"
    },
    "id": "yRwwLkBP6fps",
    "papermill": {
     "duration": 0.045756,
     "end_time": "2024-09-27T13:14:52.236425",
     "exception": false,
     "start_time": "2024-09-27T13:14:52.190669",
     "status": "completed"
    },
    "tags": []
   },
   "outputs": [],
   "source": [
    "df = df.drop_duplicates(subset = 'user_id', keep='last')"
   ]
  },
  {
   "cell_type": "code",
   "execution_count": 10,
   "id": "3b04d768",
   "metadata": {
    "execution": {
     "iopub.execute_input": "2024-09-27T13:14:52.256775Z",
     "iopub.status.busy": "2024-09-27T13:14:52.256339Z",
     "iopub.status.idle": "2024-09-27T13:14:52.263775Z",
     "shell.execute_reply": "2024-09-27T13:14:52.262648Z"
    },
    "id": "258srW0h_1mY",
    "outputId": "a793aded-27e4-4aff-9d7b-ecd735f64c72",
    "papermill": {
     "duration": 0.020839,
     "end_time": "2024-09-27T13:14:52.266170",
     "exception": false,
     "start_time": "2024-09-27T13:14:52.245331",
     "status": "completed"
    },
    "tags": []
   },
   "outputs": [
    {
     "data": {
      "text/plain": [
       "(290585, 5)"
      ]
     },
     "execution_count": 10,
     "metadata": {},
     "output_type": "execute_result"
    }
   ],
   "source": [
    "df.shape"
   ]
  },
  {
   "cell_type": "markdown",
   "id": "57601d9b",
   "metadata": {
    "id": "ulXou8qVvemU",
    "papermill": {
     "duration": 0.00832,
     "end_time": "2024-09-27T13:14:52.283121",
     "exception": false,
     "start_time": "2024-09-27T13:14:52.274801",
     "status": "completed"
    },
    "tags": []
   },
   "source": [
    "## Preparation of Test Data"
   ]
  },
  {
   "cell_type": "code",
   "execution_count": 11,
   "id": "7814f55b",
   "metadata": {
    "execution": {
     "iopub.execute_input": "2024-09-27T13:14:52.302561Z",
     "iopub.status.busy": "2024-09-27T13:14:52.302090Z",
     "iopub.status.idle": "2024-09-27T13:14:52.550871Z",
     "shell.execute_reply": "2024-09-27T13:14:52.549528Z"
    },
    "id": "3XpwS8ApAueb",
    "outputId": "a75de1c8-a6b3-430f-ddd2-b27069d1f49d",
    "papermill": {
     "duration": 0.261971,
     "end_time": "2024-09-27T13:14:52.553653",
     "exception": false,
     "start_time": "2024-09-27T13:14:52.291682",
     "status": "completed"
    },
    "tags": []
   },
   "outputs": [
    {
     "name": "stdout",
     "output_type": "stream",
     "text": [
      "Control Success:  17489 \n",
      "Treatment Success:  17264\n",
      "Number of Control Group:  145274 \n",
      "Number of Treatment Group:  145311\n"
     ]
    }
   ],
   "source": [
    "control_succ = df.loc[df[\"group\"] == 'control', \"converted\"].sum()\n",
    "treatment_succ = df.loc[df[\"group\"] == 'treatment', \"converted\"].sum()\n",
    "print(\"Control Success: \", control_succ, \"\\nTreatment Success: \", treatment_succ)\n",
    "control_nobs = df.loc[df[\"group\"] == 'control', \"group\"].shape[0]\n",
    "treatment_nobs = df.loc[df[\"group\"] == 'treatment', \"group\"].shape[0]\n",
    "print(\"Number of Control Group: \", control_nobs, \"\\nNumber of Treatment Group: \", treatment_nobs)\n"
   ]
  },
  {
   "cell_type": "code",
   "execution_count": 12,
   "id": "9ba8e946",
   "metadata": {
    "execution": {
     "iopub.execute_input": "2024-09-27T13:14:52.573847Z",
     "iopub.status.busy": "2024-09-27T13:14:52.572798Z",
     "iopub.status.idle": "2024-09-27T13:14:52.579719Z",
     "shell.execute_reply": "2024-09-27T13:14:52.578477Z"
    },
    "id": "z_NHqJcorPxS",
    "outputId": "21a85fc8-1f1c-4f5a-99c8-9341115124e5",
    "papermill": {
     "duration": 0.019946,
     "end_time": "2024-09-27T13:14:52.582588",
     "exception": false,
     "start_time": "2024-09-27T13:14:52.562642",
     "status": "completed"
    },
    "tags": []
   },
   "outputs": [
    {
     "name": "stdout",
     "output_type": "stream",
     "text": [
      "Conversion rate of the control group: 0.1203863045004612\n",
      "Conversion rate of the treatment group: 0.11880724790277405\n"
     ]
    }
   ],
   "source": [
    "control_rate = control_succ / control_nobs\n",
    "treatment_rate = treatment_succ / treatment_nobs\n",
    "print(\"Conversion rate of the control group:\", control_rate)\n",
    "print(\"Conversion rate of the treatment group:\", treatment_rate)"
   ]
  },
  {
   "cell_type": "markdown",
   "id": "f678af55",
   "metadata": {
    "id": "wElsPe_4A8_z",
    "papermill": {
     "duration": 0.008613,
     "end_time": "2024-09-27T13:14:52.600358",
     "exception": false,
     "start_time": "2024-09-27T13:14:52.591745",
     "status": "completed"
    },
    "tags": []
   },
   "source": [
    "AB Testing (Two Sample Proportion Test)\n",
    "\n",
    "H0: p1 = p2\n",
    "\n",
    "There is no statistically significant difference between the conversion rate of the new design and the conversion rate of the old design.\n",
    "\n",
    "H1: p1 != p2\n",
    "\n",
    "... There is statistically significant difference."
   ]
  },
  {
   "cell_type": "code",
   "execution_count": 13,
   "id": "4d43f33d",
   "metadata": {
    "execution": {
     "iopub.execute_input": "2024-09-27T13:14:52.620576Z",
     "iopub.status.busy": "2024-09-27T13:14:52.619681Z",
     "iopub.status.idle": "2024-09-27T13:14:52.630598Z",
     "shell.execute_reply": "2024-09-27T13:14:52.629149Z"
    },
    "id": "tc2lGBqXJMu-",
    "outputId": "5cab00d9-22e9-4a42-9927-a5b3dd86b94d",
    "papermill": {
     "duration": 0.024152,
     "end_time": "2024-09-27T13:14:52.633375",
     "exception": false,
     "start_time": "2024-09-27T13:14:52.609223",
     "status": "completed"
    },
    "tags": []
   },
   "outputs": [
    {
     "name": "stdout",
     "output_type": "stream",
     "text": [
      "Test Stats= 1.3116 , Pvalue= 0.1897\n"
     ]
    }
   ],
   "source": [
    "ttest_stats, pvalue = proportions_ztest(count= [control_succ, treatment_succ],\n",
    "                                        nobs= [control_nobs, treatment_nobs])\n",
    "print('Test Stats= %.4f , Pvalue= %.4f' % (ttest_stats, pvalue))"
   ]
  },
  {
   "cell_type": "markdown",
   "id": "982dfd92",
   "metadata": {
    "id": "AXySj86hJ7Ad",
    "papermill": {
     "duration": 0.008653,
     "end_time": "2024-09-27T13:14:52.651476",
     "exception": false,
     "start_time": "2024-09-27T13:14:52.642823",
     "status": "completed"
    },
    "tags": []
   },
   "source": [
    "Pvalue= 0.1892 > 0.05\n",
    "\n",
    "## RESULT\n",
    "Therefore, the H0 hypothesis cannot be rejected.\n",
    "\n",
    "As a result, no statistically significant difference was found in new_page and old_page conversion rates.\n",
    "\n",
    "Considering the large number of observations, it would be pointless to extend the experiment.\n",
    "\n"
   ]
  }
 ],
 "metadata": {
  "colab": {
   "provenance": []
  },
  "kaggle": {
   "accelerator": "none",
   "dataSources": [
    {
     "datasetId": 2133464,
     "sourceId": 3548178,
     "sourceType": "datasetVersion"
    }
   ],
   "isGpuEnabled": false,
   "isInternetEnabled": false,
   "language": "python",
   "sourceType": "notebook"
  },
  "kernelspec": {
   "display_name": "Python 3",
   "name": "python3"
  },
  "language_info": {
   "codemirror_mode": {
    "name": "ipython",
    "version": 3
   },
   "file_extension": ".py",
   "mimetype": "text/x-python",
   "name": "python",
   "nbconvert_exporter": "python",
   "pygments_lexer": "ipython3",
   "version": "3.10.14"
  },
  "papermill": {
   "default_parameters": {},
   "duration": 44.008159,
   "end_time": "2024-09-27T13:14:53.383127",
   "environment_variables": {},
   "exception": null,
   "input_path": "__notebook__.ipynb",
   "output_path": "__notebook__.ipynb",
   "parameters": {},
   "start_time": "2024-09-27T13:14:09.374968",
   "version": "2.6.0"
  }
 },
 "nbformat": 4,
 "nbformat_minor": 5
}
